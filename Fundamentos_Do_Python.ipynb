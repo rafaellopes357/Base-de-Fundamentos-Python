{
  "nbformat": 4,
  "nbformat_minor": 0,
  "metadata": {
    "colab": {
      "provenance": [],
      "authorship_tag": "ABX9TyPwxBs+5lLt7Uv29BQoB2ld",
      "include_colab_link": true
    },
    "kernelspec": {
      "name": "python3",
      "display_name": "Python 3"
    },
    "language_info": {
      "name": "python"
    }
  },
  "cells": [
    {
      "cell_type": "markdown",
      "metadata": {
        "id": "view-in-github",
        "colab_type": "text"
      },
      "source": [
        "<a href=\"https://colab.research.google.com/github/rafaellopes357/Base-de-Fundamentos-Python/blob/main/Fundamentos_Do_Python.ipynb\" target=\"_parent\"><img src=\"https://colab.research.google.com/assets/colab-badge.svg\" alt=\"Open In Colab\"/></a>"
      ]
    },
    {
      "cell_type": "markdown",
      "source": [
        "# Fundamentos do Python\n"
      ],
      "metadata": {
        "id": "tbgcdr4JjLat"
      }
    },
    {
      "cell_type": "markdown",
      "source": [
        "A ideia desse notebook é basicamente eu demonstrar as ferramentas que eu acredito que sejam fundamentais para o início no python, e com isso, fazendo explicações de como ir adicionando e criando variáveis, texto, inserindo imagem e assim por diante."
      ],
      "metadata": {
        "id": "snoEbl5kj2at"
      }
    },
    {
      "cell_type": "markdown",
      "source": [
        "# 1. Introdução ao Python\n"
      ],
      "metadata": {
        "id": "__Px4sM-kxAc"
      }
    },
    {
      "cell_type": "code",
      "source": [],
      "metadata": {
        "id": "ts6VpnQvk2Zv"
      },
      "execution_count": null,
      "outputs": []
    }
  ]
}