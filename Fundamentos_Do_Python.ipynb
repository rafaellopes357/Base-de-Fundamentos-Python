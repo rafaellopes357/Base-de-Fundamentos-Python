{
  "nbformat": 4,
  "nbformat_minor": 0,
  "metadata": {
    "colab": {
      "provenance": [],
      "authorship_tag": "ABX9TyNJdhmYX+Lk61dMHHrLldYK",
      "include_colab_link": true
    },
    "kernelspec": {
      "name": "python3",
      "display_name": "Python 3"
    },
    "language_info": {
      "name": "python"
    }
  },
  "cells": [
    {
      "cell_type": "markdown",
      "metadata": {
        "id": "view-in-github",
        "colab_type": "text"
      },
      "source": [
        "<a href=\"https://colab.research.google.com/github/rafaellopes357/Base-de-Fundamentos-Python/blob/main/Fundamentos_Do_Python.ipynb\" target=\"_parent\"><img src=\"https://colab.research.google.com/assets/colab-badge.svg\" alt=\"Open In Colab\"/></a>"
      ]
    },
    {
      "cell_type": "markdown",
      "source": [
        "# Fundamentos do Python\n"
      ],
      "metadata": {
        "id": "tbgcdr4JjLat"
      }
    },
    {
      "cell_type": "markdown",
      "source": [
        "A ideia desse notebook é basicamente eu demonstrar as ferramentas que eu acredito que sejam fundamentais para o início no python, e com isso, fazendo explicações de como ir adicionando e criando variáveis, texto, inserindo imagem e assim por diante."
      ],
      "metadata": {
        "id": "snoEbl5kj2at"
      }
    },
    {
      "cell_type": "markdown",
      "source": [
        "# 1. Introdução ao Python\n"
      ],
      "metadata": {
        "id": "__Px4sM-kxAc"
      }
    },
    {
      "cell_type": "markdown",
      "source": [
        "O google colab tem um formato de notebook, assim como o jupyter notebook você pode alternar entre linhas de código e markdown (texto, imagens)\n",
        "\n",
        "Abaixo vamos executar uma célula de código e ela rodará em python, antes disso no canto superior direto do colab tem um botão chamado conectar, você pode clicar nele e ele irá se conectar com o seu PC, ou, você pode executar uma célula e o colab irá se conectar automaticamente após a célula ser executada."
      ],
      "metadata": {
        "id": "ts6VpnQvk2Zv"
      }
    },
    {
      "cell_type": "code",
      "source": [
        "1+1"
      ],
      "metadata": {
        "id": "piAQmKfV0lJx",
        "outputId": "28415a99-723a-4de6-e403-2010073c2128",
        "colab": {
          "base_uri": "https://localhost:8080/"
        }
      },
      "execution_count": 1,
      "outputs": [
        {
          "output_type": "execute_result",
          "data": {
            "text/plain": [
              "2"
            ]
          },
          "metadata": {},
          "execution_count": 1
        }
      ]
    },
    {
      "cell_type": "markdown",
      "source": [
        "Ao executar a célula acima, ela nos dar o resultado da soma logo abaixo.\n",
        "\n",
        "\n",
        "Observe ainda que, com o markdown, é possível criar um relatório detalhando tudo que foi feito.\n"
      ],
      "metadata": {
        "id": "opxgHSNW0sOo"
      }
    },
    {
      "cell_type": "markdown",
      "source": [
        "# 2. Exibindo Mensagens"
      ],
      "metadata": {
        "id": "jCzg0Acd2a0H"
      }
    },
    {
      "cell_type": "markdown",
      "source": [],
      "metadata": {
        "id": "HZ-XOAtu2hDN"
      }
    }
  ]
}