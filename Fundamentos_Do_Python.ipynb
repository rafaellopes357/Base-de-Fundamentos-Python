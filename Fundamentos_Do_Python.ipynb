{
  "nbformat": 4,
  "nbformat_minor": 0,
  "metadata": {
    "colab": {
      "provenance": [],
      "authorship_tag": "ABX9TyNPLpFY/5wnXbYF+jKnGhxR",
      "include_colab_link": true
    },
    "kernelspec": {
      "name": "python3",
      "display_name": "Python 3"
    },
    "language_info": {
      "name": "python"
    }
  },
  "cells": [
    {
      "cell_type": "markdown",
      "metadata": {
        "id": "view-in-github",
        "colab_type": "text"
      },
      "source": [
        "<a href=\"https://colab.research.google.com/github/rafaellopes357/Base-de-Fundamentos-Python/blob/main/Fundamentos_Do_Python.ipynb\" target=\"_parent\"><img src=\"https://colab.research.google.com/assets/colab-badge.svg\" alt=\"Open In Colab\"/></a>"
      ]
    },
    {
      "cell_type": "markdown",
      "source": [
        "# Fundamentos do Python\n"
      ],
      "metadata": {
        "id": "tbgcdr4JjLat"
      }
    },
    {
      "cell_type": "markdown",
      "source": [
        "A ideia desse notebook é basicamente eu demonstrar as ferramentas que eu acredito que sejam fundamentais para o início no python,"
      ],
      "metadata": {
        "id": "snoEbl5kj2at"
      }
    }
  ]
}